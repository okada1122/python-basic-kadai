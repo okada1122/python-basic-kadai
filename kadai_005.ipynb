{
  "nbformat": 4,
  "nbformat_minor": 0,
  "metadata": {
    "colab": {
      "provenance": []
    },
    "kernelspec": {
      "name": "python3",
      "display_name": "Python 3"
    },
    "language_info": {
      "name": "python"
    }
  },
  "cells": [
    {
      "cell_type": "code",
      "execution_count": null,
      "metadata": {
        "colab": {
          "base_uri": "https://localhost:8080/"
        },
        "id": "RW6Kts2pkPqp",
        "outputId": "c0228f05-3647-4841-812b-118d66f81860"
      },
      "outputs": [
        {
          "output_type": "stream",
          "name": "stdout",
          "text": [
            "75.0cm2\n"
          ]
        }
      ],
      "source": [
        "#変数の定義\n",
        "top=10\n",
        "bottom=20\n",
        "height=5\n",
        "\n",
        "#公式：台形の面積 =（上辺＋下辺）× 高さ ÷ 2\n",
        "trapezoid_area=(top+bottom)*height/2\n",
        "answer=str(trapezoid_area)+\"cm2\"\n",
        "print(answer)"
      ]
    }
  ]
}