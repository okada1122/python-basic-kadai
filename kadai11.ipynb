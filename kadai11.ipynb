{
  "nbformat": 4,
  "nbformat_minor": 0,
  "metadata": {
    "colab": {
      "provenance": []
    },
    "kernelspec": {
      "name": "python3",
      "display_name": "Python 3"
    },
    "language_info": {
      "name": "python"
    }
  },
  "cells": [
    {
      "cell_type": "code",
      "execution_count": 8,
      "metadata": {
        "colab": {
          "base_uri": "https://localhost:8080/"
        },
        "id": "sVD78Ttxivpx",
        "outputId": "8aa1010e-548f-4cde-b35b-be2280a9486b"
      },
      "outputs": [
        {
          "output_type": "stream",
          "name": "stdout",
          "text": [
            "水\n",
            "金\n",
            "地\n",
            "火\n",
            "木\n",
            "土\n",
            "天\n",
            "海\n",
            "冥\n",
            "水\n",
            "金\n",
            "地\n",
            "火\n",
            "木\n",
            "土\n",
            "天\n",
            "海\n",
            "冥\n"
          ]
        }
      ],
      "source": [
        "array = [\"水\",\"金\",\"地\",\"火\",\"木\",\"土\",\"天\",\"海\",\"冥\"]\n",
        "#繰り返し回数\n",
        "for i in range(2):\n",
        "  #for文で惑星を表示\n",
        "  for planet in array:\n",
        "    print(planet)\n"
      ]
    },
    {
      "cell_type": "code",
      "source": [
        "array = [\"水\",\"金\",\"地\",\"火\",\"木\",\"土\",\"天\",\"海\",\"冥\"]\n",
        "#while文のみで2回繰り返すことができなったので、\n",
        "#while文の中にWhile文を組み込み対応\n",
        "\n",
        "#大Whieleのカウント数↓\n",
        "v = 0\n",
        "while v < 2:\n",
        "  #小Whileカウント数↓\n",
        "  i = 0\n",
        "  #9回惑星を表示\n",
        "  while i < 9:\n",
        "    print(array[i])\n",
        "    i = i + 1\n",
        "  #2回繰り返す\n",
        "  v = v + 1\n",
        "\n"
      ],
      "metadata": {
        "colab": {
          "base_uri": "https://localhost:8080/"
        },
        "id": "1E_oUwYis_1z",
        "outputId": "e204f43b-a38a-4917-9024-833e66857709"
      },
      "execution_count": 7,
      "outputs": [
        {
          "output_type": "stream",
          "name": "stdout",
          "text": [
            "水\n",
            "金\n",
            "地\n",
            "火\n",
            "木\n",
            "土\n",
            "天\n",
            "海\n",
            "冥\n",
            "水\n",
            "金\n",
            "地\n",
            "火\n",
            "木\n",
            "土\n",
            "天\n",
            "海\n",
            "冥\n"
          ]
        }
      ]
    }
  ]
}