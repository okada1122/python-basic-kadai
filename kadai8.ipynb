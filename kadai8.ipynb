{
  "nbformat": 4,
  "nbformat_minor": 0,
  "metadata": {
    "colab": {
      "provenance": []
    },
    "kernelspec": {
      "name": "python3",
      "display_name": "Python 3"
    },
    "language_info": {
      "name": "python"
    }
  },
  "cells": [
    {
      "cell_type": "code",
      "execution_count": 15,
      "metadata": {
        "colab": {
          "base_uri": "https://localhost:8080/"
        },
        "id": "ngW-EmyYSvVi",
        "outputId": "3a37919e-2ceb-42a5-b265-f48d147b4832"
      },
      "outputs": [
        {
          "output_type": "stream",
          "name": "stdout",
          "text": [
            "FizzBuzz\n"
          ]
        }
      ],
      "source": [
        "#変数の定義\n",
        "var=30\n",
        "#3の倍数かつ5の倍数の時FizzBuzz\n",
        "if var%3 == 0 and var%5 == 0 :\n",
        "  print(\"FizzBuzz\")\n",
        "  #3の倍数の時Fizz\n",
        "elif var%3 == 0 :\n",
        "  print(\"Fizz\")\n",
        "  #5の倍数の時Buzz\n",
        "elif var%5 == 0 :\n",
        "  print(\"Buzz\")\n",
        "  #それ以外の時varを表示\n",
        "else:\n",
        "  print(var)"
      ]
    }
  ]
}