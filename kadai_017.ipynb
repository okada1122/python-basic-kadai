{
  "nbformat": 4,
  "nbformat_minor": 0,
  "metadata": {
    "colab": {
      "provenance": []
    },
    "kernelspec": {
      "name": "python3",
      "display_name": "Python 3"
    },
    "language_info": {
      "name": "python"
    }
  },
  "cells": [
    {
      "cell_type": "code",
      "execution_count": 26,
      "metadata": {
        "colab": {
          "base_uri": "https://localhost:8080/"
        },
        "id": "4q_SrSR5xTJV",
        "outputId": "2da752ba-3966-424a-c21f-4a4aa11ae8bd"
      },
      "outputs": [
        {
          "output_type": "stream",
          "name": "stdout",
          "text": [
            "綾香は大人ではありません\n",
            "場奈美は大人です\n",
            "長助は大人です\n",
            "大也は大人です\n",
            "江須田は大人ではありません\n"
          ]
        }
      ],
      "source": [
        "class Human:\n",
        "    def __init__(self, name, age):\n",
        "\n",
        "# 属性の定義\n",
        "        self.name = name\n",
        "        self.age = age\n",
        "\n",
        "# メソッドの定義\n",
        "    def check_adult(self):\n",
        "        if self.age >= 20:\n",
        "            print(f\"{self.name}は大人です\")\n",
        "        else:\n",
        "            print(f\"{self.name}は大人ではありません\")\n",
        "\n",
        "# インスタンス化\n",
        "Ayaka   = Human(\"綾香\",15)\n",
        "Banami  = Human(\"場奈美\" ,22)\n",
        "Chosuke = Human(\"長助\",20)\n",
        "Daiya   = Human(\"大也\",35)\n",
        "Esuta   = Human(\"江須田\",18)\n",
        "\n",
        "# リストに追加\n",
        "user_names = [Ayaka, Banami, Chosuke, Daiya,Esuta]\n",
        "\n",
        "#繰り返しの設定\n",
        "for i in user_names:\n",
        "    # メソッドの実行\n",
        "    i.check_adult()"
      ]
    }
  ]
}