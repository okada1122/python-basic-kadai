{
  "nbformat": 4,
  "nbformat_minor": 0,
  "metadata": {
    "colab": {
      "provenance": []
    },
    "kernelspec": {
      "name": "python3",
      "display_name": "Python 3"
    },
    "language_info": {
      "name": "python"
    }
  },
  "cells": [
    {
      "cell_type": "code",
      "execution_count": 3,
      "metadata": {
        "colab": {
          "base_uri": "https://localhost:8080/"
        },
        "id": "WpncDAfL2VIs",
        "outputId": "3ebbd5a4-afc2-4e8d-986e-6ba54f1ad28b"
      },
      "outputs": [
        {
          "output_type": "stream",
          "name": "stdout",
          "text": [
            "英太郎 25\n"
          ]
        }
      ],
      "source": [
        "class Human:\n",
        "    def __init__(self, name, age):\n",
        "\n",
        "# 属性の定義\n",
        "        self.name = name\n",
        "        self.age = age\n",
        "\n",
        "# メソッドの定義\n",
        "    def printinfo(self):\n",
        "        print(self.name,self.age)\n",
        "\n",
        "# インスタンス化\n",
        "Ataro = Human(\"英太郎\",25)\n",
        "# メソッドの実行\n",
        "Ataro.printinfo()\n"
      ]
    }
  ]
}