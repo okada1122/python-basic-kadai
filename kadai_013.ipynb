{
  "nbformat": 4,
  "nbformat_minor": 0,
  "metadata": {
    "colab": {
      "provenance": []
    },
    "kernelspec": {
      "name": "python3",
      "display_name": "Python 3"
    },
    "language_info": {
      "name": "python"
    }
  },
  "cells": [
    {
      "cell_type": "code",
      "execution_count": 3,
      "metadata": {
        "colab": {
          "base_uri": "https://localhost:8080/"
        },
        "id": "isJlwtKMLnRz",
        "outputId": "6c2e23a9-889a-4c8c-e86c-97e6e3986df7"
      },
      "outputs": [
        {
          "output_type": "execute_result",
          "data": {
            "text/plain": [
              "121.0"
            ]
          },
          "metadata": {},
          "execution_count": 3
        }
      ],
      "source": [
        "#関数の定義\n",
        "def calc_tax(price:int,tax:int):\n",
        "  #消費税の計算、結果を戻り値で返す\n",
        "  return  price + (price * (tax/100))\n",
        "#関数の実行、商品の金額「110」、消費税（10%）\n",
        "calc_tax(110,10)"
      ]
    }
  ]
}